{
 "cells": [
  {
   "cell_type": "code",
   "execution_count": 1,
   "metadata": {},
   "outputs": [
    {
     "name": "stdout",
     "output_type": "stream",
     "text": [
      "Languages:\n",
      "Python\n",
      "Java\n",
      "JavaScript\n",
      "C/C++\n",
      "C#\n",
      "R\n",
      "PHP\n",
      "TypeScript\n",
      "Swift\n",
      "Objective-C\n",
      "Rust\n",
      "Go\n",
      "Kotlin\n",
      "Matlab\n",
      "Ada\n",
      "Dart\n",
      "Ruby\n",
      "Powershell\n",
      "VBA\n",
      "Lua\n",
      "Scala\n",
      "Abap\n",
      "Julia\n",
      "Visual Basic\n",
      "Perl\n",
      "Groovy\n",
      "Haskell\n",
      "Cobol\n",
      "Delphi/Pascal\n",
      "\n",
      "\n",
      "Top 5 languages by share percentage: \n",
      "Python 28.11 % +0.6 %\n",
      "Java 15.52 % -1.0 %\n",
      "JavaScript 8.57 % -1.0 %\n",
      "C/C++ 6.92 % +0.1 %\n",
      "C# 6.73 % -0.1 %\n",
      "\n",
      "\n",
      "Median share percentage: 1.08%\n",
      "\n",
      "Highest trending languages from the past year: \n",
      "R +0.7%\n",
      "Python +0.6%\n",
      "Swift +0.5%\n"
     ]
    },
    {
     "data": {
      "text/plain": [
       "<bound method WebDriver.quit of <selenium.webdriver.firefox.webdriver.WebDriver (session=\"e752c694-2481-44e9-a380-bef556890b5a\")>>"
      ]
     },
     "execution_count": 1,
     "metadata": {},
     "output_type": "execute_result"
    }
   ],
   "source": [
    "from selenium import webdriver\n",
    "from selenium.webdriver.chrome.service import Service\n",
    "import numpy as np\n",
    "from bs4 import BeautifulSoup\n",
    "from selenium.webdriver.common.by import By\n",
    "\n",
    "#create the driver\n",
    "driver = webdriver.Firefox()\n",
    "driver.get(\"https://pypl.github.io/PYPL.html\")\n",
    "\n",
    "#scrape the table body\n",
    "tbody = driver.find_element(By.XPATH, '//*[@id=\"table\"]/table/tbody')\n",
    "\n",
    "#Loop through relevant columns and add to a matrix of langage, share, and trend by reading as html\n",
    "data = [[], [], []]\n",
    "for i in range(3, 6):\n",
    "    for j in tbody.find_elements(By.XPATH, f'//*[@id=\"table\"]/table/tbody/tr/td[{i}]'):\n",
    "        data[i - 3].append(j.text)\n",
    "\n",
    "#List all languages\n",
    "print(\"Languages:\")\n",
    "for lang in data[0]:\n",
    "    print(lang)\n",
    "print(f\"\\n\")\n",
    "\n",
    "#List top five languages with relevant information\n",
    "print(\"Top 5 languages by share percentage: \")\n",
    "for i in range (0, 5):\n",
    "        print (data[0][i] + \" \" + data[1][i] + \" \" + data[2][i])\n",
    "print(f\"\\n\")\n",
    "        \n",
    "#Report median share value of languages\n",
    "shares = []\n",
    "for elem in data[1]:\n",
    "    shares.append(np.float64(elem[:len(elem)-2]))\n",
    "print(\"Median share percentage: \" + str(np.median(shares)) + f\"%\\n\")\n",
    "    \n",
    "#Three highest upward trended languages\n",
    "trends = []\n",
    "for elem in data[2]:\n",
    "    trends.append(np.float64(elem[:len(elem)-2]))\n",
    "indices = np.arange(0, len(shares))\n",
    "dic = dict.fromkeys(indices)\n",
    "for key, value in zip(dic.keys(), trends):\n",
    "    dic[key] = value\n",
    "#sort by value\n",
    "sortdic = {key: val for key, val in sorted(dic.items(), key = lambda ele: ele[1], reverse = True)}\n",
    "\n",
    "print(\"Highest trending languages from the past year: \")\n",
    "for i in range (0, 3):\n",
    "    print ( str(data[0][list((sortdic.keys()))[i]]) + \" +\" + str(list((sortdic.values()))[i]) + \"%\")\n",
    "\n",
    "\n",
    "driver.quit "
   ]
  },
  {
   "cell_type": "code",
   "execution_count": null,
   "metadata": {},
   "outputs": [],
   "source": [
    "    "
   ]
  },
  {
   "cell_type": "code",
   "execution_count": null,
   "metadata": {},
   "outputs": [],
   "source": []
  },
  {
   "cell_type": "code",
   "execution_count": null,
   "metadata": {},
   "outputs": [],
   "source": []
  }
 ],
 "metadata": {
  "kernelspec": {
   "display_name": "Python 3",
   "language": "python",
   "name": "python3"
  },
  "language_info": {
   "codemirror_mode": {
    "name": "ipython",
    "version": 3
   },
   "file_extension": ".py",
   "mimetype": "text/x-python",
   "name": "python",
   "nbconvert_exporter": "python",
   "pygments_lexer": "ipython3",
   "version": "3.11.8"
  }
 },
 "nbformat": 4,
 "nbformat_minor": 2
}
